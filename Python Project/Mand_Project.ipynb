{
  "nbformat": 4,
  "nbformat_minor": 0,
  "metadata": {
    "colab": {
      "provenance": []
    },
    "kernelspec": {
      "name": "python3",
      "display_name": "Python 3"
    },
    "language_info": {
      "name": "python"
    }
  },
  "cells": [
    {
      "cell_type": "code",
      "execution_count": null,
      "metadata": {
        "colab": {
          "base_uri": "https://localhost:8080/"
        },
        "id": "XUsOSSuUUzhk",
        "outputId": "62119328-e829-435e-c681-5ff39be56f6b"
      },
      "outputs": [
        {
          "output_type": "stream",
          "name": "stdout",
          "text": [
            "['Mahesh', 'Ali', 'Jacob']\n"
          ]
        }
      ],
      "source": [
        "# Q1\n",
        "\n",
        "# Defining two lists of employee names\n",
        "list1 = [\"Ramesh\", \"Suresh\", \"Mahesh\", \"Ali\", \"Jacob\", \"Saritha\"]\n",
        "list2 = [\"Ali\", \"Mukesh\", \"Mahesh\", \"Jacob\", \"Sai\", \"Sarita\"]\n",
        "\n",
        "common_names = []\n",
        "\n",
        "for name in list1:\n",
        "    if name in list2:\n",
        "        common_names.append(name)\n",
        "\n",
        "# Display the common names\n",
        "print(common_names)\n",
        "\n"
      ]
    },
    {
      "cell_type": "code",
      "source": [
        "# Q2\n",
        "\n",
        "# Defining the string with names\n",
        "names_str = \"Ramesh Suresh Mohit\"\n",
        "\n",
        "names_list = names_str.split()\n",
        "\n",
        "# Define the ages for each name\n",
        "ages = {\n",
        "    \"Ramesh\": 25,\n",
        "    \"Suresh\": 22,\n",
        "    \"Mohit\": 26\n",
        "}\n",
        "\n",
        "for name in names_list:\n",
        "    print(f\"{name}: {ages[name]}\")\n",
        "\n"
      ],
      "metadata": {
        "colab": {
          "base_uri": "https://localhost:8080/"
        },
        "id": "e77kMPNk7Edl",
        "outputId": "b9fdb21b-8c26-480a-9db7-62748b0cdafc"
      },
      "execution_count": null,
      "outputs": [
        {
          "output_type": "stream",
          "name": "stdout",
          "text": [
            "Ramesh: 25\n",
            "Suresh: 22\n",
            "Mohit: 26\n"
          ]
        }
      ]
    },
    {
      "cell_type": "code",
      "source": [
        "# Q3\n",
        "\n",
        "# Defining the quantities and costs\n",
        "quantities = {\"paracetamol\": 2, \"azithromycin\": 3, \"vitamin_c\": 5}\n",
        "costs = {\"paracetamol\": 35, \"azithromycin\": 49, \"vitamin_c\": 33}\n",
        "\n",
        "# Calculate the total cost for each medicine\n",
        "total_cost_each = {medicine: quantities[medicine] * costs[medicine] for medicine in quantities}\n",
        "\n",
        "# Calculate the total cost of all medicines\n",
        "total_cost_all = sum(total_cost_each.values())\n",
        "\n",
        "# Amount given by the patient\n",
        "amount_given = 2000\n",
        "\n",
        "# Calculate the refund\n",
        "refund = amount_given - total_cost_all\n",
        "\n",
        "total_cost_each, total_cost_all, refund\n",
        "\n"
      ],
      "metadata": {
        "colab": {
          "base_uri": "https://localhost:8080/"
        },
        "id": "1E9xRZ0F7LSm",
        "outputId": "a52e7936-d442-48ea-d1a2-355ddbd10a86"
      },
      "execution_count": null,
      "outputs": [
        {
          "output_type": "execute_result",
          "data": {
            "text/plain": [
              "({'paracetamol': 70, 'azithromycin': 147, 'vitamin_c': 165}, 382, 1618)"
            ]
          },
          "metadata": {},
          "execution_count": 8
        }
      ]
    },
    {
      "cell_type": "code",
      "source": [
        "# Q4\n",
        "\n",
        "def count_vowels(sentence):\n",
        "    # Define vowels\n",
        "    vowels = \"aeiouAEIOU\"\n",
        "\n",
        "    # Count vowels\n",
        "    vowel_count = sum(1 for char in sentence if char in vowels)\n",
        "\n",
        "    return vowel_count\n",
        "\n",
        "# Test the function with the provided sentence\n",
        "user_sentence = input(\"Enter a sentence: \")\n",
        "vowel_count = count_vowels(user_sentence)\n",
        "\n",
        "\n",
        "print(f\"The sentence '{user_sentence}' contains {vowel_count} vowels.\")\n",
        "\n"
      ],
      "metadata": {
        "colab": {
          "base_uri": "https://localhost:8080/"
        },
        "id": "TB2huMID7Zd5",
        "outputId": "2c8f5635-6e41-480e-dbb0-0e7688c64e9d"
      },
      "execution_count": null,
      "outputs": [
        {
          "output_type": "stream",
          "name": "stdout",
          "text": [
            "Enter a sentence: hey this is somnath\n",
            "The sentence 'hey this is somnath' contains 5 vowels.\n"
          ]
        }
      ]
    },
    {
      "cell_type": "code",
      "source": [
        "# Q5\n",
        "\n",
        "# Get user input for age\n",
        "age = int(input(\"Enter your age: \"))\n",
        "\n",
        "# Define the eligibility criteria\n",
        "voting_age = 18\n",
        "\n",
        "# Check eligibility and display the result\n",
        "if age >= voting_age:\n",
        "    print(\"Congrats! You are eligible for voting.\")\n",
        "else:\n",
        "    years_to_wait = voting_age - age\n",
        "    print(f\"you have to return after {years_to_wait} number of years. The eligibility criteria for voting is 18 years. \")\n"
      ],
      "metadata": {
        "colab": {
          "base_uri": "https://localhost:8080/"
        },
        "id": "KoPAtMsD7g-0",
        "outputId": "2bbe4661-517d-4fa8-ca08-215815f9cd71"
      },
      "execution_count": null,
      "outputs": [
        {
          "output_type": "stream",
          "name": "stdout",
          "text": [
            "Enter your age: 21\n",
            "Congrats! You are eligible for voting.\n"
          ]
        }
      ]
    },
    {
      "cell_type": "code",
      "source": [
        "# Q6\n",
        "\n",
        "# Given list\n",
        "A = [1, 2, 3, 4, 5]\n",
        "\n",
        "# Initialize an empty list to store cumulative sums\n",
        "cumulative_sum = []\n",
        "\n",
        "# Initialize a variable to keep track of the running sum\n",
        "running_sum = 0\n",
        "\n",
        "# Calculate cumulative sum and store in the new list\n",
        "for num in A:\n",
        "    running_sum += num\n",
        "    cumulative_sum.append(running_sum)\n",
        "\n",
        "# Display the result\n",
        "print(\"Input List:\", A)\n",
        "print(\"Cumulative Sum List:\", cumulative_sum)\n",
        "\n",
        "\n"
      ],
      "metadata": {
        "colab": {
          "base_uri": "https://localhost:8080/"
        },
        "id": "S0IIQQEC7nB6",
        "outputId": "cc904747-bc8c-48e1-bf17-0b1fdf7efddc"
      },
      "execution_count": null,
      "outputs": [
        {
          "output_type": "stream",
          "name": "stdout",
          "text": [
            "Input List: [1, 2, 3, 4, 5]\n",
            "Cumulative Sum List: [1, 3, 6, 10, 15]\n"
          ]
        }
      ]
    },
    {
      "cell_type": "code",
      "source": [
        "# Q7\n",
        "\n",
        "def encode_message(sentence):\n",
        "    vowels = \"aeiouAEIOU\"\n",
        "    words = sentence.split()\n",
        "    encoded_words = []\n",
        "\n",
        "    for word in words:\n",
        "        # Check if the word starts with a vowel\n",
        "        if word[0] in vowels:\n",
        "            encoded_word = word[0] + word[-1]\n",
        "        else:\n",
        "            # Remove all vowels if the word starts with a consonant\n",
        "            encoded_word = ''.join([char for char in word if char not in vowels])\n",
        "        encoded_words.append(encoded_word)\n",
        "\n",
        "    return ' '.join(encoded_words)\n",
        "\n",
        "# Test the function with the provided sentence\n",
        "input_text = \"The quick brown fox used to sleep inside this box\"\n",
        "encoded_msg = encode_message(input_text)\n",
        "encoded_msg\n",
        "\n"
      ],
      "metadata": {
        "colab": {
          "base_uri": "https://localhost:8080/",
          "height": 35
        },
        "id": "yBKYA4Ey7szk",
        "outputId": "40a80a6a-8c61-4d42-8153-41fba0d868bf"
      },
      "execution_count": null,
      "outputs": [
        {
          "output_type": "execute_result",
          "data": {
            "text/plain": [
              "'Th qck brwn fx ud t slp ie ths bx'"
            ],
            "application/vnd.google.colaboratory.intrinsic+json": {
              "type": "string"
            }
          },
          "metadata": {},
          "execution_count": 13
        }
      ]
    },
    {
      "cell_type": "code",
      "source": [
        "# Q8\n",
        "\n",
        "def run_length_encoding(input_string):\n",
        "    # Initialize variables\n",
        "    encoded_string = \"\"\n",
        "    current_count = 1\n",
        "\n",
        "    # Iterate over the string\n",
        "    for i in range(1, len(input_string)):\n",
        "        # Check if the current character is the same as the previous\n",
        "        if input_string[i] == input_string[i - 1]:\n",
        "            current_count += 1\n",
        "        else:\n",
        "            # Append the count and character to the encoded string\n",
        "            encoded_string += str(current_count) + input_string[i - 1]\n",
        "            current_count = 1\n",
        "\n",
        "    # Append the last character and its count\n",
        "    encoded_string += str(current_count) + input_string[-1]\n",
        "\n",
        "    return encoded_string\n",
        "\n",
        "# Test the function with the provided string\n",
        "input_str = \"aabbbccdddae\"\n",
        "encoded_str = run_length_encoding(input_str)\n",
        "encoded_str\n",
        "\n"
      ],
      "metadata": {
        "id": "IqqnwtY17w5-"
      },
      "execution_count": null,
      "outputs": []
    }
  ]
}